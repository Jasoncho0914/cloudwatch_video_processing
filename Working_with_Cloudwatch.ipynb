{
 "cells": [
  {
   "cell_type": "code",
   "execution_count": 3,
   "metadata": {},
   "outputs": [],
   "source": [
    "import boto3\n",
    "import datetime\n",
    "import re\n",
    "import numpy as np"
   ]
  },
  {
   "cell_type": "code",
   "execution_count": 28,
   "metadata": {},
   "outputs": [],
   "source": [
    "logStreamName = get_response_list(1)"
   ]
  },
  {
   "cell_type": "code",
   "execution_count": 8,
   "metadata": {},
   "outputs": [],
   "source": [
    "cloudwatch = boto3.client('logs',region_name='us-east-1')\n",
    "response = cloudwatch.get_log_events(\n",
    "        logGroupName='/aws/lambda/blackjack_prototype',\n",
    "        logStreamName=logStreamName[0],\n",
    "        startFromHead=True)"
   ]
  },
  {
   "cell_type": "code",
   "execution_count": 20,
   "metadata": {
    "scrolled": true
   },
   "outputs": [],
   "source": [
    "trigger_words = [\"You bet\",\"you bet\",\"You hit\",\"you hit\",\"You stand\",\"you stand\"]"
   ]
  },
  {
   "cell_type": "code",
   "execution_count": 41,
   "metadata": {
    "scrolled": true
   },
   "outputs": [],
   "source": [
    "def get_timestamps_labels(logStreamName,\n",
    "                   trigger_words = [\"You bet\",\"you bet\",\"You hit\",\"you hit\",\"You stand\",\"you stand\"],\n",
    "                   logGroupName='/aws/lambda/blackjack_prototype',\n",
    "                   lag=0):\n",
    "    cloudwatch = boto3.client('logs',region_name='us-east-1')\n",
    "\n",
    "    response = cloudwatch.get_log_events(\n",
    "        logGroupName='/aws/lambda/blackjack_prototype',\n",
    "        logStreamName=logStreamName,\n",
    "        startFromHead=True\n",
    "    )\n",
    "\n",
    "    M_flag = 0\n",
    "    trigger_words = [\"You bet\",\"you bet\",\"You hit\",\"you hit\",\"You stand\",\"you stand\"]\n",
    "    back = 0\n",
    "    ret_dict={}\n",
    "    lag=0\n",
    "    start_time = datetime.datetime.fromtimestamp(round(response['events'][0]['timestamp']/1000))\n",
    "    for each in response['events']:\n",
    "        try:\n",
    "\n",
    "            if \"Mistake made\" in each['message']:\n",
    "                M_flag = 1\n",
    "\n",
    "\n",
    "            Alexa_s = re.findall(r'<speak>([\\s\\S]*?)<\\/speak>',each['message'])[0]\n",
    "            t_converted = datetime.datetime.fromtimestamp(round(each['timestamp'] / 1000))\n",
    "            timestamp_1 = t_converted-start_time+datetime.timedelta(seconds=lag)\n",
    "\n",
    "            if back == 1:\n",
    "                ret_dict[key] = str(timestamp_1)\n",
    "                back = 0\n",
    "\n",
    "            for t_word in trigger_words:\n",
    "                if t_word in Alexa_s:\n",
    "                    if M_flag == 1:\n",
    "                        key = str(\"Mistake made\"+\"-\"+str(timestamp_1))\n",
    "                        M_flag = 0\n",
    "                    else:\n",
    "                        key = str(\"No Mistake made\"+\"-\"+str(timestamp_1))\n",
    "                    \n",
    "                    key = t_word+\"-\"+ key\n",
    "                    ret_dict[key]=None    \n",
    "                    back = 1\n",
    "\n",
    "        except IndexError:\n",
    "            continue\n",
    "    return ret_dict"
   ]
  },
  {
   "cell_type": "code",
   "execution_count": 6,
   "metadata": {},
   "outputs": [],
   "source": [
    "def get_response_list(N_interactions):\n",
    "    cloudwatch = boto3.client('logs',region_name='us-east-1')\n",
    "    response = cloudwatch.describe_log_streams(\n",
    "        logGroupName='/aws/lambda/blackjack_prototype',\n",
    "        orderBy='LastEventTime',\n",
    "        descending=True,\n",
    "        limit=N_interactions\n",
    "    )\n",
    "    response_list = [i['logStreamName'] for i in response['logStreams']]\n",
    "    \n",
    "    return response_list"
   ]
  },
  {
   "cell_type": "code",
   "execution_count": 36,
   "metadata": {},
   "outputs": [],
   "source": [
    "def get_timestamps(logStreamName,\n",
    "                   trigger_words = [\"You bet\",\"you bet\",\"You hit\",\"you hit\",\"You stand\",\"you stand\"],\n",
    "                   logGroupName='/aws/lambda/blackjack_prototype',\n",
    "                   lag=0):\n",
    "    cloudwatch = boto3.client('logs',region_name='us-east-1')\n",
    "\n",
    "    response = cloudwatch.get_log_events(\n",
    "        logGroupName='/aws/lambda/blackjack_prototype',\n",
    "        logStreamName=logStreamName,\n",
    "        startFromHead=True\n",
    "    )\n",
    "\n",
    "\n",
    "    trigger_words = trigger_words\n",
    "    back = 0\n",
    "    lag = lag\n",
    "    ret_dict = {}\n",
    "    start_time = datetime.datetime.fromtimestamp(round(response['events'][0]['timestamp']/1000))\n",
    "    for each in response['events']:\n",
    "        try:\n",
    "            Alexa_s = re.findall(r'<speak>([\\s\\S]*?)<\\/speak>',each['message'])[0]\n",
    "            t_converted = datetime.datetime.fromtimestamp(round(each['timestamp'] / 1000))\n",
    "            timestamp_1 = t_converted-start_time+datetime.timedelta(seconds=lag)\n",
    "            if back == 1:\n",
    "                ret_dict[key] = str(timestamp_1)\n",
    "                back = 0\n",
    "            for t_word in trigger_words:\n",
    "                if t_word in Alexa_s:\n",
    "                    ret_dict[str(timestamp_1)]=None\n",
    "                    key = str(timestamp_1)\n",
    "                    back = 1\n",
    "        except IndexError:\n",
    "            continue\n",
    "\n",
    "    return ret_dict"
   ]
  },
  {
   "cell_type": "code",
   "execution_count": 37,
   "metadata": {
    "scrolled": false
   },
   "outputs": [
    {
     "data": {
      "text/plain": [
       "{'0:01:00': '0:01:17',\n",
       " '0:01:17': '0:01:27',\n",
       " '0:01:27': '0:01:42',\n",
       " '0:01:47': '0:02:04',\n",
       " '0:02:04': '0:02:35',\n",
       " '0:02:40': '0:03:08',\n",
       " '0:03:14': '0:03:36',\n",
       " '0:03:36': '0:03:46',\n",
       " '0:03:46': '0:03:56',\n",
       " '0:03:56': '0:04:13',\n",
       " '0:04:19': '0:04:40',\n",
       " '0:04:40': '0:05:03',\n",
       " '0:05:13': '0:05:34',\n",
       " '0:05:34': '0:06:05',\n",
       " '0:06:10': '0:06:28',\n",
       " '0:06:28': '0:07:05',\n",
       " '0:07:10': '0:07:27',\n",
       " '0:07:27': '0:07:59',\n",
       " '0:08:05': '0:08:23',\n",
       " '0:08:23': '0:09:06',\n",
       " '0:09:13': '0:09:30',\n",
       " '0:09:30': '0:09:40',\n",
       " '0:09:40': '0:09:51',\n",
       " '0:09:51': '0:10:06',\n",
       " '0:10:11': '0:10:29',\n",
       " '0:10:29': None}"
      ]
     },
     "execution_count": 37,
     "metadata": {},
     "output_type": "execute_result"
    }
   ],
   "source": [
    "get_timestamps(logStreamName='2019/03/05/[$LATEST]df74413a62cb47cf923cf8a8788a0d23',lag = 8)"
   ]
  },
  {
   "cell_type": "code",
   "execution_count": 169,
   "metadata": {},
   "outputs": [
    {
     "name": "stdout",
     "output_type": "stream",
     "text": [
      "{'0:01:00': '0:01:17', '0:01:17': '0:01:27', '0:01:27': '0:01:42', '0:01:47': '0:02:04', '0:02:04': '0:02:35', '0:02:40': '0:03:08', '0:03:14': '0:03:36', '0:03:36': '0:03:46', '0:03:46': '0:03:56', '0:03:56': '0:04:13', '0:04:19': '0:04:40', '0:04:40': '0:05:03', '0:05:13': '0:05:34', '0:05:34': '0:06:05', '0:06:10': '0:06:28', '0:06:28': '0:07:05', '0:07:10': '0:07:27', '0:07:27': '0:07:59', '0:08:05': '0:08:23', '0:08:23': '0:09:06', '0:09:13': '0:09:30', '0:09:30': '0:09:40', '0:09:40': '0:09:51', '0:09:51': '0:10:06', '0:10:11': '0:10:29', '0:10:29': None}\n"
     ]
    }
   ],
   "source": [
    "for i in get_response_list(1):\n",
    "    print(get_timestamps(logStreamName=i,lag=8))"
   ]
  },
  {
   "cell_type": "code",
   "execution_count": 194,
   "metadata": {},
   "outputs": [
    {
     "data": {
      "text/plain": [
       "'2019_03_05_788a0d23'"
      ]
     },
     "execution_count": 194,
     "metadata": {},
     "output_type": "execute_result"
    }
   ],
   "source": []
  },
  {
   "cell_type": "code",
   "execution_count": 186,
   "metadata": {},
   "outputs": [
    {
     "data": {
      "text/plain": [
       "'788a0d23'"
      ]
     },
     "execution_count": 186,
     "metadata": {},
     "output_type": "execute_result"
    }
   ],
   "source": [
    "i[-8:]"
   ]
  },
  {
   "cell_type": "code",
   "execution_count": 185,
   "metadata": {},
   "outputs": [
    {
     "data": {
      "text/plain": [
       "'2019/03/05/[$LATEST]df74413a62cb47cf923cf8a8788a0d23'"
      ]
     },
     "execution_count": 185,
     "metadata": {},
     "output_type": "execute_result"
    }
   ],
   "source": [
    "i"
   ]
  },
  {
   "cell_type": "code",
   "execution_count": null,
   "metadata": {},
   "outputs": [],
   "source": []
  }
 ],
 "metadata": {
  "kernelspec": {
   "display_name": "Python 3",
   "language": "python",
   "name": "python3"
  },
  "language_info": {
   "codemirror_mode": {
    "name": "ipython",
    "version": 3
   },
   "file_extension": ".py",
   "mimetype": "text/x-python",
   "name": "python",
   "nbconvert_exporter": "python",
   "pygments_lexer": "ipython3",
   "version": "3.6.6"
  }
 },
 "nbformat": 4,
 "nbformat_minor": 2
}
