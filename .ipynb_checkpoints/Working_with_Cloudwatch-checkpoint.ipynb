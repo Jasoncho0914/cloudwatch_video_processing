{
 "cells": [
  {
   "cell_type": "code",
   "execution_count": 3,
   "metadata": {},
   "outputs": [],
   "source": [
    "import boto3\n",
    "import datetime\n",
    "import re\n",
    "import numpy as np"
   ]
  },
  {
   "cell_type": "code",
   "execution_count": 28,
   "metadata": {},
   "outputs": [],
   "source": [
    "logStreamName = get_response_list(1)"
   ]
  },
  {
   "cell_type": "code",
   "execution_count": 8,
   "metadata": {},
   "outputs": [],
   "source": [
    "cloudwatch = boto3.client('logs',region_name='us-east-1')\n",
    "response = cloudwatch.get_log_events(\n",
    "        logGroupName='/aws/lambda/blackjack_prototype',\n",
    "        logStreamName=logStreamName[0],\n",
    "        startFromHead=True)"
   ]
  },
  {
   "cell_type": "code",
   "execution_count": 20,
   "metadata": {
    "scrolled": true
   },
   "outputs": [],
   "source": [
    "trigger_words = [\"You bet\",\"you bet\",\"You hit\",\"you hit\",\"You stand\",\"you stand\"]"
   ]
  },
  {
   "cell_type": "code",
   "execution_count": 30,
   "metadata": {},
   "outputs": [
    {
     "data": {
      "text/plain": [
       "{'No Mistake made-0:00:40': None,\n",
       " 'You betNo Mistake made-0:00:40': '0:00:58',\n",
       " 'Mistake made-0:00:58': None,\n",
       " 'You standMistake made-0:00:58': '0:01:33',\n",
       " 'No Mistake made-0:01:38': None,\n",
       " 'You betNo Mistake made-0:01:38': '0:01:55',\n",
       " 'No Mistake made-0:01:55': None,\n",
       " 'You hitNo Mistake made-0:01:55': '0:02:06',\n",
       " 'Mistake made-0:02:06': None,\n",
       " 'You standMistake made-0:02:06': '0:02:37',\n",
       " 'Mistake made-0:02:43': None,\n",
       " 'You betMistake made-0:02:43': '0:03:04',\n",
       " 'Mistake made-0:03:04': None,\n",
       " 'You standMistake made-0:03:04': '0:03:32',\n",
       " 'No Mistake made-0:03:38': None,\n",
       " 'You betNo Mistake made-0:03:38': '0:03:55',\n",
       " 'Mistake made-0:03:55': None,\n",
       " 'You standMistake made-0:03:55': '0:04:27',\n",
       " 'Mistake made-0:04:32': None,\n",
       " 'You betMistake made-0:04:32': '0:04:49',\n",
       " 'Mistake made-0:04:49': None,\n",
       " 'You hitMistake made-0:04:49': '0:04:59',\n",
       " 'No Mistake made-0:04:59': None,\n",
       " 'You hitNo Mistake made-0:04:59': '0:05:10',\n",
       " 'Mistake made-0:05:10': None,\n",
       " 'you hitMistake made-0:05:10': '0:05:25',\n",
       " 'Mistake made-0:05:31': None,\n",
       " 'You betMistake made-0:05:31': '0:05:51',\n",
       " 'No Mistake made-0:05:51': None,\n",
       " 'You standNo Mistake made-0:05:51': '0:06:19',\n",
       " 'No Mistake made-0:06:23': None,\n",
       " 'You betNo Mistake made-0:06:23': '0:06:40',\n",
       " 'Mistake made-0:06:40': None,\n",
       " 'You hitMistake made-0:06:40': '0:06:52',\n",
       " 'No Mistake made-0:06:52': None,\n",
       " 'you hitNo Mistake made-0:06:52': '0:07:08',\n",
       " 'Mistake made-0:07:21': None,\n",
       " 'You betMistake made-0:07:21': '0:07:50',\n",
       " 'Mistake made-0:07:56': None,\n",
       " 'You betMistake made-0:07:56': '0:08:16',\n",
       " 'Mistake made-0:08:16': None,\n",
       " 'You hitMistake made-0:08:16': '0:08:27',\n",
       " 'No Mistake made-0:08:27': None,\n",
       " 'you hitNo Mistake made-0:08:27': '0:08:41',\n",
       " 'No Mistake made-0:08:46': None,\n",
       " 'You betNo Mistake made-0:08:46': '0:09:07',\n",
       " 'No Mistake made-0:09:07': None,\n",
       " 'You standNo Mistake made-0:09:07': '0:09:34',\n",
       " 'Mistake made-0:09:39': None,\n",
       " 'You betMistake made-0:09:39': '0:09:56',\n",
       " 'No Mistake made-0:09:56': None,\n",
       " 'You standNo Mistake made-0:09:56': '0:10:32',\n",
       " 'Mistake made-0:10:37': None,\n",
       " 'You betMistake made-0:10:37': '0:10:57',\n",
       " 'No Mistake made-0:10:57': None,\n",
       " 'You hitNo Mistake made-0:10:57': '0:11:08',\n",
       " 'No Mistake made-0:11:08': None,\n",
       " 'You standNo Mistake made-0:11:08': '0:11:47',\n",
       " 'Mistake made-0:11:53': None,\n",
       " 'You betMistake made-0:11:53': '0:12:10',\n",
       " 'Mistake made-0:12:10': None,\n",
       " 'You standMistake made-0:12:10': '0:12:41',\n",
       " 'No Mistake made-0:12:46': None,\n",
       " 'You betNo Mistake made-0:12:46': '0:13:07',\n",
       " 'No Mistake made-0:13:07': None,\n",
       " 'you hitNo Mistake made-0:13:07': '0:19:45',\n",
       " 'Mistake made-0:20:23': None,\n",
       " 'You betMistake made-0:20:23': '0:20:39',\n",
       " 'No Mistake made-0:20:39': None,\n",
       " 'You hitNo Mistake made-0:20:39': '0:20:54',\n",
       " 'No Mistake made-0:20:54': None,\n",
       " 'You hitNo Mistake made-0:20:54': '0:21:04',\n",
       " 'No Mistake made-0:21:04': None,\n",
       " 'You standNo Mistake made-0:21:04': '0:21:35',\n",
       " 'Mistake made-0:21:41': None,\n",
       " 'You betMistake made-0:21:41': '0:21:58',\n",
       " 'Mistake made-0:21:58': None,\n",
       " 'You standMistake made-0:21:58': '0:22:29',\n",
       " 'No Mistake made-0:22:34': None,\n",
       " 'You betNo Mistake made-0:22:34': '0:22:52',\n",
       " 'Mistake made-0:22:52': None,\n",
       " 'You standMistake made-0:22:52': '0:23:18',\n",
       " 'Mistake made-0:23:23': None,\n",
       " 'You betMistake made-0:23:23': '0:23:43',\n",
       " 'Mistake made-0:23:43': None,\n",
       " 'you hitMistake made-0:23:43': '0:23:58',\n",
       " 'Mistake made-0:24:04': None,\n",
       " 'You betMistake made-0:24:04': '0:24:23',\n",
       " 'No Mistake made-0:24:27': None,\n",
       " 'You betNo Mistake made-0:24:27': '0:24:46',\n",
       " 'No Mistake made-0:24:46': None,\n",
       " 'You hitNo Mistake made-0:24:46': '0:24:57',\n",
       " 'No Mistake made-0:24:57': None,\n",
       " 'You standNo Mistake made-0:24:57': '0:25:34',\n",
       " 'No Mistake made-0:25:40': None,\n",
       " 'You betNo Mistake made-0:25:40': '0:26:09',\n",
       " 'No Mistake made-0:26:14': None,\n",
       " 'You betNo Mistake made-0:26:14': '0:26:32',\n",
       " 'Mistake made-0:26:32': None,\n",
       " 'You standMistake made-0:26:32': '0:26:58',\n",
       " 'Mistake made-0:27:03': None,\n",
       " 'You betMistake made-0:27:03': '0:27:21',\n",
       " 'Mistake made-0:27:21': None,\n",
       " 'You standMistake made-0:27:21': '0:27:52',\n",
       " 'No Mistake made-0:27:57': None,\n",
       " 'You betNo Mistake made-0:27:57': '0:28:18',\n",
       " 'No Mistake made-0:28:18': None,\n",
       " 'You standNo Mistake made-0:28:18': '0:28:42',\n",
       " 'No Mistake made-0:28:47': None,\n",
       " 'You betNo Mistake made-0:28:47': '0:29:05',\n",
       " 'No Mistake made-0:29:05': None,\n",
       " 'You standNo Mistake made-0:29:05': '0:29:35',\n",
       " 'No Mistake made-0:29:41': None,\n",
       " 'You betNo Mistake made-0:29:41': '0:29:59',\n",
       " 'Mistake made-0:29:59': None,\n",
       " 'you hitMistake made-0:29:59': '0:30:15',\n",
       " 'Mistake made-0:30:21': None,\n",
       " 'You betMistake made-0:30:21': '0:30:40',\n",
       " 'No Mistake made-0:30:46': None,\n",
       " 'You betNo Mistake made-0:30:46': '0:31:07',\n",
       " 'Mistake made-0:31:07': None,\n",
       " 'You hitMistake made-0:31:07': '0:31:33',\n",
       " 'Mistake made-0:31:33': None,\n",
       " 'you hitMistake made-0:31:33': '0:31:48',\n",
       " 'Mistake made-0:31:53': None,\n",
       " 'You betMistake made-0:31:53': '0:32:13',\n",
       " 'Mistake made-0:32:13': None,\n",
       " 'You standMistake made-0:32:13': '0:32:41',\n",
       " 'No Mistake made-0:32:47': None,\n",
       " 'You betNo Mistake made-0:32:47': '0:33:07',\n",
       " 'Mistake made-0:33:07': None,\n",
       " 'you hitMistake made-0:33:07': '0:33:22',\n",
       " 'Mistake made-0:33:27': None,\n",
       " 'You betMistake made-0:33:27': '0:33:46',\n",
       " 'Mistake made-0:33:51': None,\n",
       " 'You betMistake made-0:33:51': '0:34:10',\n",
       " 'No Mistake made-0:34:15': None,\n",
       " 'You betNo Mistake made-0:34:15': '0:34:34',\n",
       " 'Mistake made-0:34:34': None,\n",
       " 'You hitMistake made-0:34:34': '0:34:44',\n",
       " 'Mistake made-0:34:44': None,\n",
       " 'You standMistake made-0:34:44': '0:35:15',\n",
       " 'Mistake made-0:35:25': None,\n",
       " 'You betMistake made-0:35:25': '0:35:46',\n",
       " 'Mistake made-0:35:46': None,\n",
       " 'you hitMistake made-0:35:46': '0:36:00',\n",
       " 'No Mistake made-0:36:05': None,\n",
       " 'You betNo Mistake made-0:36:05': '0:36:23',\n",
       " 'No Mistake made-0:36:23': None,\n",
       " 'You standNo Mistake made-0:36:23': '0:36:55',\n",
       " 'Mistake made-0:37:00': None,\n",
       " 'You betMistake made-0:37:00': '0:37:21',\n",
       " 'No Mistake made-0:37:21': None,\n",
       " 'You hitNo Mistake made-0:37:21': '0:37:31',\n",
       " 'No Mistake made-0:37:31': None,\n",
       " 'You standNo Mistake made-0:37:31': '0:38:00',\n",
       " 'Mistake made-0:38:05': None,\n",
       " 'You betMistake made-0:38:05': '0:38:25',\n",
       " 'Mistake made-0:38:25': None,\n",
       " 'You hitMistake made-0:38:25': '0:38:36',\n",
       " 'No Mistake made-0:38:36': None,\n",
       " 'you hitNo Mistake made-0:38:36': '0:38:51',\n",
       " 'Mistake made-0:39:04': None,\n",
       " 'You betMistake made-0:39:04': '0:39:25',\n",
       " 'No Mistake made-0:39:25': None,\n",
       " 'You standNo Mistake made-0:39:25': '0:40:00',\n",
       " 'No Mistake made-0:40:05': None,\n",
       " 'You betNo Mistake made-0:40:05': '0:40:23',\n",
       " 'No Mistake made-0:40:23': None,\n",
       " 'You standNo Mistake made-0:40:23': '0:40:47',\n",
       " 'No Mistake made-0:40:51': None,\n",
       " 'You betNo Mistake made-0:40:51': '0:41:11',\n",
       " 'Mistake made-0:41:11': None,\n",
       " 'You hitMistake made-0:41:11': '0:41:22',\n",
       " 'Mistake made-0:41:22': None,\n",
       " 'You standMistake made-0:41:22': '0:41:46',\n",
       " 'Mistake made-0:41:50': None,\n",
       " 'You betMistake made-0:41:50': '0:42:12'}"
      ]
     },
     "execution_count": 30,
     "metadata": {},
     "output_type": "execute_result"
    }
   ],
   "source": [
    "get_timestamps_labels(logStreamName[0])"
   ]
  },
  {
   "cell_type": "code",
   "execution_count": 27,
   "metadata": {},
   "outputs": [],
   "source": [
    "def get_timestamps_labels_2(logStreamName,\n",
    "                   logGroupName='/aws/lambda/blackjack_prototype',\n",
    "                   lag=0):\n",
    "    cloudwatch = boto3.client('logs',region_name='us-east-1')\n",
    "\n",
    "    response = cloudwatch.get_log_events(\n",
    "        logGroupName='/aws/lambda/blackjack_prototype',\n",
    "        logStreamName=logStreamName,\n",
    "        startFromHead=True\n",
    "    )\n",
    "\n",
    "    M_flag = 0\n",
    "    trigger_word_1 = [\"You hit\",\"you hit\",\"You stand\",\"you stand\"]\n",
    "    trigger_word_2 = [\"You bet\",\"you bet\"]\n",
    "    back = 0\n",
    "    ret_dict={}\n",
    "    lag=0\n",
    "    start_time = datetime.datetime.fromtimestamp(round(response['events'][0]['timestamp']/1000))\n",
    "    for each in response['events']:\n",
    "        try:\n",
    "\n",
    "            if \"Mistake made\" in each['message']:\n",
    "                M_flag = 1\n",
    "\n",
    "\n",
    "            Alexa_s = re.findall(r'<speak>([\\s\\S]*?)<\\/speak>',each['message'])[0]\n",
    "            t_converted = datetime.datetime.fromtimestamp(round(each['timestamp'] / 1000))\n",
    "            timestamp_1 = t_converted-start_time+datetime.timedelta(seconds=lag)\n",
    "\n",
    "            if back == 1:\n",
    "                ret_dict[key] = str(timestamp_1)\n",
    "                back = 0\n",
    "\n",
    "            for t_word in trigger_word_1:\n",
    "                if t_word in Alexa_s:\n",
    "                    if M_flag == 1:\n",
    "                        key = str(\"Mistake made\"+\"-\"+str(timestamp_1))\n",
    "                        M_flag = 0\n",
    "                    else:\n",
    "                        key = str(\"No Mistake made\"+\"-\"+str(timestamp_1))\n",
    "                    ret_dict[key]=None    \n",
    "                    key = t_word+\" - \"+ key\n",
    "                    back = 1\n",
    "            \n",
    "            for t_word in trigger_word_2:\n",
    "                if t_word in Alexa_s:\n",
    "                    if M_flag == 1:\n",
    "                        key = str(\"Mistake made\"+\"-\"+str(timestamp_1))\n",
    "                        M_flag = 0\n",
    "                    else:\n",
    "                        key = str(\"No Mistake made\"+\"-\"+str(timestamp_1))\n",
    "                    ret_dict[key]=None    \n",
    "                    key = t_word+\" - \" + key\n",
    "                    back = 1\n",
    "\n",
    "        except IndexError:\n",
    "            continue\n",
    "    return ret_dict"
   ]
  },
  {
   "cell_type": "code",
   "execution_count": 47,
   "metadata": {
    "scrolled": true
   },
   "outputs": [],
   "source": [
    "def get_timestamps_labels(logStreamName,\n",
    "                   trigger_words = [\"You bet\",\"you bet\",\"You hit\",\"you hit\",\"You stand\",\"you stand\"],\n",
    "                   logGroupName='/aws/lambda/blackjack_prototype',\n",
    "                   lag=0):\n",
    "    cloudwatch = boto3.client('logs',region_name='us-east-1')\n",
    "\n",
    "    response = cloudwatch.get_log_events(\n",
    "        logGroupName='/aws/lambda/blackjack_prototype',\n",
    "        logStreamName=logStreamName,\n",
    "        startFromHead=True\n",
    "    )\n",
    "\n",
    "    M_flag = 0\n",
    "    trigger_words = [\"You bet\",\"you bet\",\"You hit\",\"you hit\",\"You stand\",\"you stand\"]\n",
    "    back = 0\n",
    "    ret_dict={}\n",
    "    lag=0\n",
    "    start_time = datetime.datetime.fromtimestamp(round(response['events'][0]['timestamp']/1000))\n",
    "    for each in response['events']:\n",
    "        try:\n",
    "\n",
    "            if \"Mistake made\" in each['message']:\n",
    "                M_flag = 1\n",
    "\n",
    "\n",
    "            Alexa_s = re.findall(r'<speak>([\\s\\S]*?)<\\/speak>',each['message'])[0]\n",
    "            t_converted = datetime.datetime.fromtimestamp(round(each['timestamp'] / 1000))\n",
    "            timestamp_1 = t_converted-start_time+datetime.timedelta(seconds=lag)\n",
    "\n",
    "            if back == 1:\n",
    "                ret_dict[key] = str(timestamp_1)\n",
    "                back = 0\n",
    "\n",
    "            for t_word in trigger_words:\n",
    "                if t_word in Alexa_s:\n",
    "                    if M_flag == 1:\n",
    "                        key = str(\"Mistake made\"+\"-\"+str(timestamp_1))\n",
    "                        M_flag = 0\n",
    "                    else:\n",
    "                        key = str(\"No Mistake made\"+\"-\"+str(timestamp_1))\n",
    "                    \n",
    "                    key = + key\n",
    "                    \n",
    "                    ret_dict[key]=None    \n",
    "                    back = 1\n",
    "\n",
    "        except IndexError:\n",
    "            continue\n",
    "    return ret_dict"
   ]
  },
  {
   "cell_type": "code",
   "execution_count": 6,
   "metadata": {},
   "outputs": [],
   "source": [
    "def get_response_list(N_interactions):\n",
    "    cloudwatch = boto3.client('logs',region_name='us-east-1')\n",
    "    response = cloudwatch.describe_log_streams(\n",
    "        logGroupName='/aws/lambda/blackjack_prototype',\n",
    "        orderBy='LastEventTime',\n",
    "        descending=True,\n",
    "        limit=N_interactions\n",
    "    )\n",
    "    response_list = [i['logStreamName'] for i in response['logStreams']]\n",
    "    \n",
    "    return response_list"
   ]
  },
  {
   "cell_type": "code",
   "execution_count": 36,
   "metadata": {},
   "outputs": [],
   "source": [
    "def get_timestamps(logStreamName,\n",
    "                   trigger_words = [\"You bet\",\"you bet\",\"You hit\",\"you hit\",\"You stand\",\"you stand\"],\n",
    "                   logGroupName='/aws/lambda/blackjack_prototype',\n",
    "                   lag=0):\n",
    "    cloudwatch = boto3.client('logs',region_name='us-east-1')\n",
    "\n",
    "    response = cloudwatch.get_log_events(\n",
    "        logGroupName='/aws/lambda/blackjack_prototype',\n",
    "        logStreamName=logStreamName,\n",
    "        startFromHead=True\n",
    "    )\n",
    "\n",
    "\n",
    "    trigger_words = trigger_words\n",
    "    back = 0\n",
    "    lag = lag\n",
    "    ret_dict = {}\n",
    "    start_time = datetime.datetime.fromtimestamp(round(response['events'][0]['timestamp']/1000))\n",
    "    for each in response['events']:\n",
    "        try:\n",
    "            Alexa_s = re.findall(r'<speak>([\\s\\S]*?)<\\/speak>',each['message'])[0]\n",
    "            t_converted = datetime.datetime.fromtimestamp(round(each['timestamp'] / 1000))\n",
    "            timestamp_1 = t_converted-start_time+datetime.timedelta(seconds=lag)\n",
    "            if back == 1:\n",
    "                ret_dict[key] = str(timestamp_1)\n",
    "                back = 0\n",
    "            for t_word in trigger_words:\n",
    "                if t_word in Alexa_s:\n",
    "                    ret_dict[str(timestamp_1)]=None\n",
    "                    key = str(timestamp_1)\n",
    "                    back = 1\n",
    "        except IndexError:\n",
    "            continue\n",
    "\n",
    "    return ret_dict"
   ]
  },
  {
   "cell_type": "code",
   "execution_count": 37,
   "metadata": {
    "scrolled": false
   },
   "outputs": [
    {
     "data": {
      "text/plain": [
       "{'0:01:00': '0:01:17',\n",
       " '0:01:17': '0:01:27',\n",
       " '0:01:27': '0:01:42',\n",
       " '0:01:47': '0:02:04',\n",
       " '0:02:04': '0:02:35',\n",
       " '0:02:40': '0:03:08',\n",
       " '0:03:14': '0:03:36',\n",
       " '0:03:36': '0:03:46',\n",
       " '0:03:46': '0:03:56',\n",
       " '0:03:56': '0:04:13',\n",
       " '0:04:19': '0:04:40',\n",
       " '0:04:40': '0:05:03',\n",
       " '0:05:13': '0:05:34',\n",
       " '0:05:34': '0:06:05',\n",
       " '0:06:10': '0:06:28',\n",
       " '0:06:28': '0:07:05',\n",
       " '0:07:10': '0:07:27',\n",
       " '0:07:27': '0:07:59',\n",
       " '0:08:05': '0:08:23',\n",
       " '0:08:23': '0:09:06',\n",
       " '0:09:13': '0:09:30',\n",
       " '0:09:30': '0:09:40',\n",
       " '0:09:40': '0:09:51',\n",
       " '0:09:51': '0:10:06',\n",
       " '0:10:11': '0:10:29',\n",
       " '0:10:29': None}"
      ]
     },
     "execution_count": 37,
     "metadata": {},
     "output_type": "execute_result"
    }
   ],
   "source": [
    "get_timestamps(logStreamName='2019/03/05/[$LATEST]df74413a62cb47cf923cf8a8788a0d23',lag = 8)"
   ]
  },
  {
   "cell_type": "code",
   "execution_count": 169,
   "metadata": {},
   "outputs": [
    {
     "name": "stdout",
     "output_type": "stream",
     "text": [
      "{'0:01:00': '0:01:17', '0:01:17': '0:01:27', '0:01:27': '0:01:42', '0:01:47': '0:02:04', '0:02:04': '0:02:35', '0:02:40': '0:03:08', '0:03:14': '0:03:36', '0:03:36': '0:03:46', '0:03:46': '0:03:56', '0:03:56': '0:04:13', '0:04:19': '0:04:40', '0:04:40': '0:05:03', '0:05:13': '0:05:34', '0:05:34': '0:06:05', '0:06:10': '0:06:28', '0:06:28': '0:07:05', '0:07:10': '0:07:27', '0:07:27': '0:07:59', '0:08:05': '0:08:23', '0:08:23': '0:09:06', '0:09:13': '0:09:30', '0:09:30': '0:09:40', '0:09:40': '0:09:51', '0:09:51': '0:10:06', '0:10:11': '0:10:29', '0:10:29': None}\n"
     ]
    }
   ],
   "source": [
    "for i in get_response_list(1):\n",
    "    print(get_timestamps(logStreamName=i,lag=8))"
   ]
  },
  {
   "cell_type": "code",
   "execution_count": 194,
   "metadata": {},
   "outputs": [
    {
     "data": {
      "text/plain": [
       "'2019_03_05_788a0d23'"
      ]
     },
     "execution_count": 194,
     "metadata": {},
     "output_type": "execute_result"
    }
   ],
   "source": []
  },
  {
   "cell_type": "code",
   "execution_count": 186,
   "metadata": {},
   "outputs": [
    {
     "data": {
      "text/plain": [
       "'788a0d23'"
      ]
     },
     "execution_count": 186,
     "metadata": {},
     "output_type": "execute_result"
    }
   ],
   "source": [
    "i[-8:]"
   ]
  },
  {
   "cell_type": "code",
   "execution_count": 185,
   "metadata": {},
   "outputs": [
    {
     "data": {
      "text/plain": [
       "'2019/03/05/[$LATEST]df74413a62cb47cf923cf8a8788a0d23'"
      ]
     },
     "execution_count": 185,
     "metadata": {},
     "output_type": "execute_result"
    }
   ],
   "source": [
    "i"
   ]
  },
  {
   "cell_type": "code",
   "execution_count": null,
   "metadata": {},
   "outputs": [],
   "source": []
  }
 ],
 "metadata": {
  "kernelspec": {
   "display_name": "Python 3",
   "language": "python",
   "name": "python3"
  },
  "language_info": {
   "codemirror_mode": {
    "name": "ipython",
    "version": 3
   },
   "file_extension": ".py",
   "mimetype": "text/x-python",
   "name": "python",
   "nbconvert_exporter": "python",
   "pygments_lexer": "ipython3",
   "version": "3.6.6"
  }
 },
 "nbformat": 4,
 "nbformat_minor": 2
}
